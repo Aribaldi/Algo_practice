{
 "cells": [
  {
   "cell_type": "code",
   "execution_count": 1,
   "metadata": {},
   "outputs": [],
   "source": [
    "import numpy as np\n",
    "import time\n",
    "import matplotlib.pyplot as plt\n",
    "import pandas as pd"
   ]
  },
  {
   "cell_type": "code",
   "execution_count": 2,
   "metadata": {},
   "outputs": [],
   "source": [
    "def get_mat(n):\n",
    "    \"\"\"\n",
    "    Генерация входных матриц.\n",
    "    Проверяем, является ли n степенью двойки,\n",
    "    если нет - достраиваем матрицу до нужного\n",
    "    размера нулевыми столбцами и строками.\n",
    "    :param n: размер матрицы\n",
    "    :return: res - целочисленная матрица\n",
    "    \"\"\"\n",
    "    res = np.random.randint(0, 51, (n, n))\n",
    "    if np.modf(np.log2(n))[0] != 0:\n",
    "        add = int((2 ** (np.floor(np.log2(n)) + 1)) - n)\n",
    "        zeros = np.zeros((n + add, n + add), dtype=int)\n",
    "        zeros[:n, :n] = res\n",
    "        res = zeros\n",
    "    return res"
   ]
  },
  {
   "cell_type": "code",
   "execution_count": 3,
   "metadata": {},
   "outputs": [],
   "source": [
    "def get_submat(X):\n",
    "    \"\"\"\n",
    "    Выделение подматриц\n",
    "    :param X: матрица\n",
    "    :return: кортеж подматриц\n",
    "    \"\"\"\n",
    "    n = np.shape(X)[0] // 2\n",
    "    a11 = X[:n, :n]\n",
    "    a12 = X[:n, n:]\n",
    "    a21 = X[n:, :n]\n",
    "    a22 = X[n:, n:]\n",
    "    return a11, a12, a21, a22"
   ]
  },
  {
   "cell_type": "code",
   "execution_count": 4,
   "metadata": {},
   "outputs": [],
   "source": [
    "def strassen(A, B):\n",
    "    \"\"\"\n",
    "    Имлементация алгоритма Штрассена\n",
    "    :param A: первый множитель\n",
    "    :param B: второй множитель\n",
    "    :return: С -  результат умножения\n",
    "    \"\"\"\n",
    "\n",
    "    n = np.shape(A)[0]\n",
    "    C = np.zeros_like(A)\n",
    "\n",
    "    if n == 1:\n",
    "        C[0][0] = A[0][0] * B[0][0]\n",
    "        return C\n",
    "    else:\n",
    "\n",
    "        k = n // 2\n",
    "\n",
    "        A11, A12, A21, A22 = get_submat(A)\n",
    "        B11, B12, B21, B22 = get_submat(B)\n",
    "\n",
    "        S1 = B12 - B22\n",
    "        S2 = A11 + A12\n",
    "        S3 = A21 + A22\n",
    "        S4 = B21 - B11\n",
    "        S5 = A11 + A22\n",
    "        S6 = B11 + B22\n",
    "        S7 = A12 - A22\n",
    "        S8 = B21 + B22\n",
    "        S9 = A11 - A21\n",
    "        S10 = B11 + B12\n",
    "\n",
    "        P1 = strassen(A11, S1)\n",
    "        P2 = strassen(S2, B22)\n",
    "        P3 = strassen(S3, B11)\n",
    "        P4 = strassen(A22, S4)\n",
    "        P5 = strassen(S5, S6)\n",
    "        P6 = strassen(S7, S8)\n",
    "        P7 = strassen(S9, S10)\n",
    "\n",
    "        C[:k, :k] = P5 + P4 - P2 + P6\n",
    "        C[:k, k:] = P1 + P2\n",
    "        C[k:, :k] = P3 + P4\n",
    "        C[k:, k:] = P5 + P1 - P3 - P7\n",
    "\n",
    "        return C"
   ]
  },
  {
   "cell_type": "code",
   "execution_count": 6,
   "metadata": {},
   "outputs": [
    {
     "name": "stdout",
     "output_type": "stream",
     "text": [
      "Input:\n",
      "[[ 6 37  2  0]\n",
      " [15 31 13  0]\n",
      " [27  8 16  0]\n",
      " [ 0  0  0  0]] \n",
      "\n",
      "[[ 3 17  5  0]\n",
      " [49 37  0  0]\n",
      " [50 34 32  0]\n",
      " [ 0  0  0  0]] \n",
      "\n",
      "Strassen:\n",
      "[[1931 1539   94    0]\n",
      " [2214 1844  491    0]\n",
      " [1273 1299  647    0]\n",
      " [   0    0    0    0]] \n",
      "\n",
      "Numpy default function:\n",
      "[[1931 1539   94    0]\n",
      " [2214 1844  491    0]\n",
      " [1273 1299  647    0]\n",
      " [   0    0    0    0]] \n",
      "\n"
     ]
    }
   ],
   "source": [
    "A, B = get_mat(3), get_mat(3)\n",
    "print('Input:')\n",
    "print(A, \"\\n\")\n",
    "print(B, \"\\n\")\n",
    "\n",
    "print('Strassen:')\n",
    "print(strassen(A, B), \"\\n\")\n",
    "print('Numpy default function:')\n",
    "print(np.matmul(A, B), \"\\n\")"
   ]
  },
  {
   "cell_type": "code",
   "execution_count": 7,
   "metadata": {},
   "outputs": [],
   "source": [
    "def wrapper():\n",
    "    time_history = []\n",
    "    orders = [2**i for i in range(2, 10)]\n",
    "    for i in orders:\n",
    "        A, B = get_mat(i), get_mat(i)\n",
    "        since = time.time()\n",
    "        strassen(A, B)\n",
    "        time_elapsed = (time.time() - since)\n",
    "        time_history.append(time_elapsed)\n",
    "    return orders, time_history"
   ]
  },
  {
   "cell_type": "code",
   "execution_count": 14,
   "metadata": {},
   "outputs": [
    {
     "name": "stdout",
     "output_type": "stream",
     "text": [
      "   Matrix size  Time (seconds)  Differences\n",
      "0            4        0.001331     0.000000\n",
      "1            8        0.006494     4.878560\n",
      "2           16        0.041046     6.320777\n",
      "3           32        0.247588     6.031982\n",
      "4           64        1.804134     7.286834\n",
      "5          128       12.407686     6.877364\n",
      "6          256       86.182914     6.945930\n",
      "7          512      595.133183     6.905466\n"
     ]
    },
    {
     "data": {
      "image/png": "[encoded data removed]",
      "text/plain": [
       "<Figure size 720x720 with 1 Axes>"
      ]
     },
     "metadata": {
      "needs_background": "light"
     },
     "output_type": "display_data"
    }
   ],
   "source": [
    "#sizes, times = wrapper()\n",
    "\n",
    "\n",
    "diffs = [0]\n",
    "for i in range(1, 8):\n",
    "    diffs.append(times[i] / times[i - 1])\n",
    "\n",
    "\n",
    "df = pd.DataFrame(list(zip(sizes, times, diffs)), columns=['Matrix size', 'Time (seconds)', 'Differences'] )\n",
    "print(df)\n",
    "df.to_csv('test_2.csv', sep='\\t', index=False)\n",
    "\n",
    "fig, ax = plt.subplots()\n",
    "ax.set_ylabel('Time, seconds')\n",
    "ax.set_xlabel('Orders')\n",
    "ax.set_title('Perfomance')\n",
    "ax.plot(sizes, times, 'bo')\n",
    "fig.set_figwidth(10)\n",
    "fig.set_figheight(10)\n",
    "plt.savefig('powers.png')\n",
    "plt.show()"
   ]
  },
  {
   "cell_type": "code",
   "execution_count": 43,
   "metadata": {},
   "outputs": [],
   "source": [
    "def wrapper():\n",
    "    time_history = []\n",
    "    orders = [i for i in range(2, 125)]\n",
    "    for i in orders:\n",
    "        A, B = get_mat(i), get_mat(i)\n",
    "        since = time.time()\n",
    "        strassen(A, B)\n",
    "        time_elapsed = (time.time() - since)\n",
    "        time_history.append(time_elapsed)\n",
    "    return orders, time_history"
   ]
  },
  {
   "cell_type": "code",
   "execution_count": 44,
   "metadata": {},
   "outputs": [
    {
     "name": "stdout",
     "output_type": "stream",
     "text": [
      "     Matrix size  Time (seconds)\n",
      "0              2        0.000754\n",
      "1              3        0.000809\n",
      "2              4        0.000795\n",
      "3              5        0.005720\n",
      "4              6        0.006504\n",
      "..           ...             ...\n",
      "118          120       12.321494\n",
      "119          121       12.519459\n",
      "120          122       12.481207\n",
      "121          123       12.658295\n",
      "122          124       12.318892\n",
      "\n",
      "[123 rows x 2 columns]\n"
     ]
    },
    {
     "data": {
      "image/png": "[encoded data removed]",
      "text/plain": [
       "<Figure size 720x720 with 1 Axes>"
      ]
     },
     "metadata": {
      "needs_background": "light"
     },
     "output_type": "display_data"
    }
   ],
   "source": [
    "sizes, times = wrapper()\n",
    "df = pd.DataFrame(list(zip(sizes, times)), columns=['Matrix size', 'Time (seconds)'] )\n",
    "print(df)\n",
    "#df.to_csv('test_2.csv', sep='\\t', index=False)\n",
    "\n",
    "\n",
    "fig, ax = plt.subplots()\n",
    "ax.set_ylabel('Time, seconds')\n",
    "ax.set_xlabel('Orders')\n",
    "ax.set_title('Perfomance')\n",
    "ax.plot(sizes, times, 'bo')\n",
    "fig.set_figwidth(10)\n",
    "fig.set_figheight(10)\n",
    "plt.savefig('linear.png')\n",
    "plt.show()"
   ]
  },
  {
   "cell_type": "code",
   "execution_count": null,
   "metadata": {},
   "outputs": [],
   "source": []
  }
 ],
 "metadata": {
  "kernelspec": {
   "display_name": "Python 3",
   "language": "python",
   "name": "python3"
  },
  "language_info": {
   "codemirror_mode": {
    "name": "ipython",
    "version": 3
   },
   "file_extension": ".py",
   "mimetype": "text/x-python",
   "name": "python",
   "nbconvert_exporter": "python",
   "pygments_lexer": "ipython3",
   "version": "3.8.0"
  }
 },
 "nbformat": 4,
 "nbformat_minor": 2
}
