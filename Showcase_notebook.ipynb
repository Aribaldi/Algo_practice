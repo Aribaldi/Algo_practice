{
 "cells": [
  {
   "cell_type": "code",
   "execution_count": 1,
   "metadata": {},
   "outputs": [],
   "source": [
    "import numpy as np\n",
    "import time\n",
    "import matplotlib.pyplot as plt\n",
    "import pandas as pd"
   ]
  },
  {
   "cell_type": "code",
   "execution_count": 2,
   "metadata": {},
   "outputs": [],
   "source": [
    "def get_mat(n):\n",
    "    \"\"\"\n",
    "    Генерация входных матриц.\n",
    "    Проверяем, является ли n степенью двойки,\n",
    "    если нет - достраиваем матрицу до нужного\n",
    "    размера нулевыми столбцами и строками.\n",
    "    :param n: размер матрицы\n",
    "    :return: res - целочисленная матрица\n",
    "    \"\"\"\n",
    "    res = np.random.randint(0, 51, (n, n))\n",
    "    if np.modf(np.log2(n))[0] != 0:\n",
    "        add = int((2 ** (np.floor(np.log2(n)) + 1)) - n)\n",
    "        zeros = np.zeros((n + add, n + add), dtype=int)\n",
    "        zeros[:n, :n] = res\n",
    "        res = zeros\n",
    "    return res"
   ]
  },
  {
   "cell_type": "code",
   "execution_count": 3,
   "metadata": {},
   "outputs": [],
   "source": [
    "def get_submat(X):\n",
    "    \"\"\"\n",
    "    Выделение подматриц\n",
    "    :param X: матрица\n",
    "    :return: кортеж подматриц\n",
    "    \"\"\"\n",
    "    n = np.shape(X)[0] // 2\n",
    "    a11 = X[:n, :n]\n",
    "    a12 = X[:n, n:]\n",
    "    a21 = X[n:, :n]\n",
    "    a22 = X[n:, n:]\n",
    "    return a11, a12, a21, a22"
   ]
  },
  {
   "cell_type": "code",
   "execution_count": 4,
   "metadata": {},
   "outputs": [],
   "source": [
    "def strassen(A, B):\n",
    "    \"\"\"\n",
    "    Имлементация алгоритма Штрассена\n",
    "    :param A: первый множитель\n",
    "    :param B: второй множитель\n",
    "    :return: С -  результат умножения\n",
    "    \"\"\"\n",
    "\n",
    "    n = np.shape(A)[0]\n",
    "    C = np.zeros_like(A)\n",
    "\n",
    "    if n == 1:\n",
    "        C[0][0] = A[0][0] * B[0][0]\n",
    "        return C\n",
    "    else:\n",
    "\n",
    "        k = n // 2\n",
    "\n",
    "        A11, A12, A21, A22 = get_submat(A)\n",
    "        B11, B12, B21, B22 = get_submat(B)\n",
    "\n",
    "        S1 = B12 - B22\n",
    "        S2 = A11 + A12\n",
    "        S3 = A21 + A22\n",
    "        S4 = B21 - B11\n",
    "        S5 = A11 + A22\n",
    "        S6 = B11 + B22\n",
    "        S7 = A12 - A22\n",
    "        S8 = B21 + B22\n",
    "        S9 = A11 - A21\n",
    "        S10 = B11 + B12\n",
    "\n",
    "        P1 = strassen(A11, S1)\n",
    "        P2 = strassen(S2, B22)\n",
    "        P3 = strassen(S3, B11)\n",
    "        P4 = strassen(A22, S4)\n",
    "        P5 = strassen(S5, S6)\n",
    "        P6 = strassen(S7, S8)\n",
    "        P7 = strassen(S9, S10)\n",
    "\n",
    "        C[:k, :k] = P5 + P4 - P2 + P6\n",
    "        C[:k, k:] = P1 + P2\n",
    "        C[k:, :k] = P3 + P4\n",
    "        C[k:, k:] = P5 + P1 - P3 - P7\n",
    "\n",
    "        return C"
   ]
  },
  {
   "cell_type": "code",
   "execution_count": 5,
   "metadata": {},
   "outputs": [
    {
     "name": "stdout",
     "output_type": "stream",
     "text": [
      "Input:\n",
      "[[ 2 42 11  0]\n",
      " [46 21  1  0]\n",
      " [ 3 45 29  0]\n",
      " [ 0  0  0  0]] \n",
      "\n",
      "[[37 38 22  0]\n",
      " [28 34 48  0]\n",
      " [12 33  7  0]\n",
      " [ 0  0  0  0]] \n",
      "\n",
      "Strassen:\n",
      "[[1382 1867 2137    0]\n",
      " [2302 2495 2027    0]\n",
      " [1719 2601 2429    0]\n",
      " [   0    0    0    0]]\n",
      "Numpy default function:\n",
      "[[1382 1867 2137    0]\n",
      " [2302 2495 2027    0]\n",
      " [1719 2601 2429    0]\n",
      " [   0    0    0    0]]\n"
     ]
    }
   ],
   "source": [
    "A, B = get_mat(3), get_mat(3)\n",
    "print('Input:')\n",
    "print(A, \"\\n\")\n",
    "print(B, \"\\n\")\n",
    "\n",
    "print('Strassen:')\n",
    "print(strassen(A, B))\n",
    "print('Numpy default function:')\n",
    "print(np.matmul(A, B))"
   ]
  },
  {
   "cell_type": "code",
   "execution_count": 6,
   "metadata": {},
   "outputs": [],
   "source": [
    "def wrapper():\n",
    "    time_history = []\n",
    "    orders = [2**i for i in range(2, 7)]\n",
    "    for i in orders:\n",
    "        A, B = get_mat(i), get_mat(i)\n",
    "        since = time.time()\n",
    "        strassen(A, B)\n",
    "        time_elapsed = (time.time() - since)\n",
    "        time_history.append(time_elapsed)\n",
    "    return orders, time_history"
   ]
  },
  {
   "cell_type": "code",
   "execution_count": 9,
   "metadata": {},
   "outputs": [
    {
     "name": "stdout",
     "output_type": "stream",
     "text": [
      "   Matrix size  Time (seconds)\n",
      "0            4        0.001417\n",
      "1            8        0.007187\n",
      "2           16        0.045065\n",
      "3           32        0.249424\n",
      "4           64        1.766099\n"
     ]
    },
    {
     "data": {
      "image/png": "[encoded data removed]",
      "text/plain": [
       "<Figure size 720x720 with 1 Axes>"
      ]
     },
     "metadata": {
      "needs_background": "light"
     },
     "output_type": "display_data"
    }
   ],
   "source": [
    "sizes, times = wrapper()\n",
    "df = pd.DataFrame(list(zip(sizes, times)), columns=['Matrix size', 'Time (seconds)'] )\n",
    "print(df)\n",
    "#df.to_csv('test_2.csv', sep='\\t', index=False)\n",
    "\n",
    "\n",
    "plt.figure(figsize = (10, 10))\n",
    "plt.plot(sizes, times, 'bo')\n",
    "plt.show()"
   ]
  },
  {
   "cell_type": "code",
   "execution_count": 12,
   "metadata": {},
   "outputs": [],
   "source": [
    "def wrapper():\n",
    "    time_history = []\n",
    "    orders = [i for i in range(2, 72)]\n",
    "    for i in orders:\n",
    "        A, B = get_mat(i), get_mat(i)\n",
    "        since = time.time()\n",
    "        strassen(A, B)\n",
    "        time_elapsed = (time.time() - since)\n",
    "        time_history.append(time_elapsed)\n",
    "    return orders, time_history"
   ]
  },
  {
   "cell_type": "code",
   "execution_count": 13,
   "metadata": {},
   "outputs": [
    {
     "name": "stdout",
     "output_type": "stream",
     "text": [
      "    Matrix size  Time (seconds)\n",
      "0             2        0.000280\n",
      "1             3        0.001539\n",
      "2             4        0.000974\n",
      "3             5        0.008053\n",
      "4             6        0.007688\n",
      "..          ...             ...\n",
      "65           67       12.111771\n",
      "66           68       12.114576\n",
      "67           69       12.118819\n",
      "68           70       12.093073\n",
      "69           71       12.090312\n",
      "\n",
      "[70 rows x 2 columns]\n"
     ]
    },
    {
     "data": {
      "image/png": "[encoded data removed]",
      "text/plain": [
       "<Figure size 720x720 with 1 Axes>"
      ]
     },
     "metadata": {
      "needs_background": "light"
     },
     "output_type": "display_data"
    }
   ],
   "source": [
    "sizes, times = wrapper()\n",
    "df = pd.DataFrame(list(zip(sizes, times)), columns=['Matrix size', 'Time (seconds)'] )\n",
    "print(df)\n",
    "#df.to_csv('test_2.csv', sep='\\t', index=False)\n",
    "\n",
    "\n",
    "plt.figure(figsize = (10, 10))\n",
    "plt.plot(sizes, times, 'bo')\n",
    "plt.show()"
   ]
  },
  {
   "cell_type": "code",
   "execution_count": null,
   "metadata": {},
   "outputs": [],
   "source": []
  }
 ],
 "metadata": {
  "kernelspec": {
   "display_name": "Python 3",
   "language": "python",
   "name": "python3"
  },
  "language_info": {
   "codemirror_mode": {
    "name": "ipython",
    "version": 3
   },
   "file_extension": ".py",
   "mimetype": "text/x-python",
   "name": "python",
   "nbconvert_exporter": "python",
   "pygments_lexer": "ipython3",
   "version": "3.8.0"
  }
 },
 "nbformat": 4,
 "nbformat_minor": 2
}
